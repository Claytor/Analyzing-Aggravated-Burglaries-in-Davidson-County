{
 "cells": [
  {
   "cell_type": "code",
   "execution_count": 2,
   "id": "3fa4d5de",
   "metadata": {},
   "outputs": [],
   "source": [
    "import requests\n",
    "import pandas as pd\n",
    "import json\n",
    "import matplotlib.pyplot as plt"
   ]
  },
  {
   "cell_type": "markdown",
   "id": "37fb6b16",
   "metadata": {},
   "source": [
    "# Analyzing Aggravated Burglaries in Davidson County"
   ]
  },
  {
   "cell_type": "markdown",
   "id": "1dd831e7",
   "metadata": {},
   "source": [
    "### Part 1 - Data Gathering using APIs\n",
    "\n",
    "1. A dataset containing details about Metro Nashville Police Department reported incidents is available at https://data.nashville.gov/Police/Metro-Nashville-Police-Department-Incidents/2u6v-ujjs. Make use of the API to find all aggravated burglary incidents () that were reported during the nine month period from January 1, 2022 through September 30, 2022. (**Hint:** Check out the [API Docs](https://dev.socrata.com/foundry/data.nashville.gov/2u6v-ujjs) to see how to narrow down the response to just the desired results)."
   ]
  },
  {
   "cell_type": "markdown",
   "id": "33402f6e",
   "metadata": {},
   "source": [
    "**Aggrivated Burglary** - TIBRS Data Collection Manual states that TN uses NIBRS for coding offenses under TN Code Annotated 39-14-403.  The following NIBRS codes are used for aggrivated burglary in Tennessee\n",
    "- Burglary - 220\n",
    "- Assualt - 13A\n",
    "- Robery - 120\n",
    "- Weapon Law Violation - 520"
   ]
  },
  {
   "cell_type": "code",
   "execution_count": 5,
   "id": "f1324b91",
   "metadata": {
    "scrolled": true
   },
   "outputs": [],
   "source": [
    "#Setup API Access\n",
    "with open('app_token.json') as fi:\n",
    "    credentials = json.load(fi)\n",
    "app_token = credentials['token']\n",
    "app_secret = credentials['secret']\n",
    "auth = app_token+app_secret"
   ]
  },
  {
   "cell_type": "markdown",
   "id": "e5e5a667",
   "metadata": {},
   "source": [
    "API Fields\n",
    "- `incident_occurred` - Date and time the incident occurred\n",
    "    - $where=date between `start` and `stop`\n",
    "    - ISO8601 Times (GMT-5)\n",
    "        - **1.1.22** `2022-01-01T00:00:00-0500`\n",
    "        - **9.30.22** `2022-09-30T23:59:59-0500`\n",
    "- date = `'date between '2015-01-10T12:00:00' and '2015-01-10T14:00:00'`\n",
    "    "
   ]
  },
  {
   "cell_type": "code",
   "execution_count": 28,
   "id": "a1340b83",
   "metadata": {},
   "outputs": [],
   "source": [
    "start = '2022-01-01T00:00:00'\n",
    "stop = '2022-09-30T23:59:59'\n",
    "dates = f'between '+start+' and '+stop\n",
    "#originaldates = f'$where=incident_occurred between '+start+' and '+stop\n",
    "Agg_Bur = ['220', '13A', '120', '520']"
   ]
  },
  {
   "cell_type": "code",
   "execution_count": 25,
   "id": "3f9f722e",
   "metadata": {},
   "outputs": [],
   "source": [
    "endpoint = 'https://data.nashville.gov/resource/2u6v-ujjs.json'\n",
    "response = requests.get(endpoint)\n",
    "params = {'$where=incident_occured': dates,\n",
    "          '$$app_token': app_token\n",
    "}"
   ]
  },
  {
   "cell_type": "code",
   "execution_count": 26,
   "id": "7a5c4e01",
   "metadata": {},
   "outputs": [],
   "source": [
    "response = requests.get(endpoint, params = params)"
   ]
  },
  {
   "cell_type": "code",
   "execution_count": 27,
   "id": "1133bcb5",
   "metadata": {},
   "outputs": [
    {
     "data": {
      "text/plain": [
       "<Response [400]>"
      ]
     },
     "execution_count": 27,
     "metadata": {},
     "output_type": "execute_result"
    }
   ],
   "source": [
    "response"
   ]
  },
  {
   "cell_type": "code",
   "execution_count": 10,
   "id": "e1bdbda5",
   "metadata": {
    "scrolled": true
   },
   "outputs": [
    {
     "data": {
      "text/plain": [
       "<bound method Response.json of <Response [400]>>"
      ]
     },
     "execution_count": 10,
     "metadata": {},
     "output_type": "execute_result"
    }
   ],
   "source": [
    "res = response.json\n",
    "res"
   ]
  },
  {
   "cell_type": "markdown",
   "id": "d92aa03b",
   "metadata": {},
   "source": [
    "2. Using the [2020 American Community Survey API](https://www.census.gov/data/developers/data-sets/acs-5year.html), obtain, for each census tract, the population (B01001_001E in the detailed tables) and the median income (S1901_C01_012E in the subject tables). Hint: Tennessee's FIPS code is 47 and Davidson County's FIPS code is 37. "
   ]
  },
  {
   "cell_type": "markdown",
   "id": "240e282b",
   "metadata": {},
   "source": [
    "### Part 2 - Spatial Joining and Data Merging"
   ]
  },
  {
   "cell_type": "markdown",
   "id": "b9501b7f",
   "metadata": {},
   "source": [
    "3. Download the 2020 census tract shapefiles for Tennessee from https://www.census.gov/geographies/mapping-files/time-series/geo/tiger-line-file.2020.html. (The FIPS code for Tennessee is 47). Perform a spatial join to determine the census tract in which each burglary incident occurred. "
   ]
  },
  {
   "cell_type": "markdown",
   "id": "e324fa6b",
   "metadata": {},
   "source": [
    "4. Aggregate the data by census tract. **Warning:** each incident can appear multiple times if there are multiple victims, so be sure that you aren't double-counting any incidents. Which census tract had the highest number of burglaries? Which census tract had the highest number of burglaries per 1000 residents? **Note:** Make sure that you keep all census tracts, not just those that have had a burglary."
   ]
  },
  {
   "cell_type": "markdown",
   "id": "c50ae73e",
   "metadata": {},
   "source": [
    "5. Merge in the census data that you gathered in question 2. Remove any rows that have zero population or negative median income values."
   ]
  },
  {
   "cell_type": "markdown",
   "id": "139999e1",
   "metadata": {},
   "source": [
    "### Part 3 - Statistical Modeling"
   ]
  },
  {
   "cell_type": "markdown",
   "id": "d8e91347",
   "metadata": {},
   "source": [
    "6. Finally, we'll build some statistical models to see how well we can explain the number of aggravated burglaries using the median income of each census tract. Start with some EDA to look at the relationship between median income and number of aggravated burglaries."
   ]
  },
  {
   "cell_type": "markdown",
   "id": "6c9dd857",
   "metadata": {},
   "source": [
    "7. Fit a Poisson regression model with target variable the rate of burglaries per census tract and with predictor the median income. Offset using the log of the population so that we are looking at the rate of burglaries per population instead of the number of burglaries. How can you interpret the meaning of the output?"
   ]
  },
  {
   "cell_type": "markdown",
   "id": "dcd4d2ea",
   "metadata": {},
   "source": [
    "8. **Bonus:** Try out a negative binomial model. To get started with a negative binomial model, you can check out [this tutorial](https://timeseriesreasoning.com/contents/negative-binomial-regression-model/). How does this model compare to the Poisson model?"
   ]
  },
  {
   "cell_type": "markdown",
   "id": "4aa4b628",
   "metadata": {},
   "source": [
    "Additional Resources for Generalized Linear Models:\n",
    "* DataCamp - [Generalized Linear Models in Python](https://learn.datacamp.com/courses/generalized-linear-models-in-python)\n",
    "* [Beyond Multiple Linear Regression, Chapter 4](https://bookdown.org/roback/bookdown-BeyondMLR/ch-poissonreg.html) Warning - the code in this book is all R, but the conceptual explanations are very clear.\n",
    "* [This set of notes](https://apwheele.github.io/MathPosts/PoissonReg.html#negative-binomial-when-the-poisson-does-not-fit), which talks about the problem of overdispersion."
   ]
  }
 ],
 "metadata": {
  "kernelspec": {
   "display_name": "Python 3 (ipykernel)",
   "language": "python",
   "name": "python3"
  },
  "language_info": {
   "codemirror_mode": {
    "name": "ipython",
    "version": 3
   },
   "file_extension": ".py",
   "mimetype": "text/x-python",
   "name": "python",
   "nbconvert_exporter": "python",
   "pygments_lexer": "ipython3",
   "version": "3.9.12"
  }
 },
 "nbformat": 4,
 "nbformat_minor": 5
}
